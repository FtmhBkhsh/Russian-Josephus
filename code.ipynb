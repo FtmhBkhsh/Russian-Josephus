{
 "cells": [
  {
   "cell_type": "code",
   "execution_count": 7,
   "metadata": {},
   "outputs": [],
   "source": [
    "import random\n",
    "import math"
   ]
  },
  {
   "cell_type": "code",
   "execution_count": 8,
   "metadata": {},
   "outputs": [],
   "source": [
    "def how_lucky_is_this_Russian_Josephus(n,m):\n",
    "    \n",
    "\n",
    "    where_u_r=int(m)\n",
    "    num=int(n)\n",
    "    num_ls=[]\n",
    "    luck_ls=list()\n",
    "\n",
    "    for i in range(n):\n",
    "        num_ls.append(i+1)   \n",
    "\n",
    "    luck_ls=loading_a_bullet_into_tne_chamber_of_a_revolver(n)\n",
    "\n",
    "    skip = 1 # pop automatically skips the dead guy\n",
    "    idx = skip\n",
    "    \n",
    "    while len(num_ls) > 1:\n",
    "        if (luck_ls[0]==\"bullet\"):\n",
    "            if (num_ls[idx]==where_u_r):\n",
    "                            print (\"\\nBang! You were killed!\\n\")\n",
    "            print ('In round ',n+1-len(num_ls), \": person number \",num_ls.pop(idx), \"was killed\") # kill prisoner at idx          \n",
    "            luck_ls.clear()       \n",
    "            luck_ls=loading_a_bullet_into_tne_chamber_of_a_revolver(len(num_ls))           \n",
    "        else:\n",
    "            if (num_ls[idx]==where_u_r):\n",
    "                            print (\"\\nYou were survived!\\n\")\n",
    "            print ('In round ',n+1-len(num_ls), \": person number \",num_ls[idx], \"was survived\") \n",
    "            idx = idx + 1 % len(num_ls)    \n",
    "            luck_ls = [luck_ls[-1]] + luck_ls[:-1]\n",
    "            print(\"cylinder rotated!\",luck_ls)   \n",
    "        idx = (idx + skip) % len(num_ls)         \n",
    "    print ('survivor is person number: ', num_ls[0])   \n",
    "    \n",
    "    if (num_ls[0]==where_u_r):\n",
    "        print ('\\nYou are really a surviver! ÷)\\n')\n"
   ]
  },
  {
   "cell_type": "code",
   "execution_count": 9,
   "metadata": {},
   "outputs": [],
   "source": [
    "def loading_a_bullet_into_tne_chamber_of_a_revolver(n):\n",
    "    luck=list()\n",
    "    for i in range(math.ceil(n/2)):\n",
    "            luck.append(\"empty\")\n",
    "    luck[0]=\"bullet\"    \n",
    "    random.shuffle(luck)\n",
    "    print ('loading a bullet into one chamber of a revolver and spinning the cylinder!:',luck)\n",
    "    return luck"
   ]
  },
  {
   "cell_type": "code",
   "execution_count": 18,
   "metadata": {},
   "outputs": [
    {
     "name": "stdout",
     "output_type": "stream",
     "text": [
      "loading a bullet into one chamber of a revolver and spinning the cylinder!: ['bullet', 'empty', 'empty']\n",
      "In round  1 : person number  2 was killed\n",
      "loading a bullet into one chamber of a revolver and spinning the cylinder!: ['bullet', 'empty']\n",
      "In round  2 : person number  4 was killed\n",
      "loading a bullet into one chamber of a revolver and spinning the cylinder!: ['bullet', 'empty']\n",
      "In round  3 : person number  1 was killed\n",
      "loading a bullet into one chamber of a revolver and spinning the cylinder!: ['bullet']\n",
      "In round  4 : person number  5 was killed\n",
      "loading a bullet into one chamber of a revolver and spinning the cylinder!: ['bullet']\n",
      "survivor is person number:  3\n",
      "\n",
      "You are really a surviver! ÷)\n",
      "\n"
     ]
    }
   ],
   "source": [
    "how_lucky_is_this_Russian_Josephus(5,3)"
   ]
  }
 ],
 "metadata": {
  "kernelspec": {
   "display_name": "Python 3",
   "language": "python",
   "name": "python3"
  },
  "language_info": {
   "codemirror_mode": {
    "name": "ipython",
    "version": 3
   },
   "file_extension": ".py",
   "mimetype": "text/x-python",
   "name": "python",
   "nbconvert_exporter": "python",
   "pygments_lexer": "ipython3",
   "version": "3.7.6"
  }
 },
 "nbformat": 4,
 "nbformat_minor": 4
}
