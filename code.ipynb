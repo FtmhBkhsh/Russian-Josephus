{
 "cells": [
  {
   "cell_type": "code",
<<<<<<< HEAD
   "execution_count": 11,
=======
   "execution_count": 1,
>>>>>>> parent of e73f222... code commit
   "metadata": {},
   "outputs": [
    {
     "ename": "NameError",
     "evalue": "name 'vndfvn' is not defined",
     "output_type": "error",
     "traceback": [
      "\u001b[1;31m---------------------------------------------------------------------------\u001b[0m",
      "\u001b[1;31mNameError\u001b[0m                                 Traceback (most recent call last)",
      "\u001b[1;32m<ipython-input-1-fc4d4a8108a8>\u001b[0m in \u001b[0;36m<module>\u001b[1;34m\u001b[0m\n\u001b[0;32m      1\u001b[0m \u001b[1;32mimport\u001b[0m \u001b[0mrandom\u001b[0m\u001b[1;33m\u001b[0m\u001b[1;33m\u001b[0m\u001b[0m\n\u001b[0;32m      2\u001b[0m \u001b[1;32mimport\u001b[0m \u001b[0mmath\u001b[0m\u001b[1;33m\u001b[0m\u001b[1;33m\u001b[0m\u001b[0m\n\u001b[1;32m----> 3\u001b[1;33m \u001b[0mvndfvn\u001b[0m\u001b[1;33m\u001b[0m\u001b[1;33m\u001b[0m\u001b[0m\n\u001b[0m",
      "\u001b[1;31mNameError\u001b[0m: name 'vndfvn' is not defined"
     ]
    }
   ],
   "source": [
    "import random\n",
    "import math\n",
    "vndfvn"
   ]
  },
  {
   "cell_type": "code",
<<<<<<< HEAD
   "execution_count": 12,
=======
   "execution_count": 20,
>>>>>>> parent of e73f222... code commit
   "metadata": {},
   "outputs": [],
   "source": [
    "def how_lucky_is_this_Russian_Josephus(n,m):\n",
    "    \n",
    "\n",
    "    where_u_r=int(m)\n",
    "    num=int(n)\n",
    "    num_ls=[]\n",
    "    luck_ls=list()\n",
    "\n",
    "    for i in range(n):\n",
    "        num_ls.append(i+1)   \n",
    "\n",
    "    luck_ls=loading_a_bullet_into_tne_chamber_of_a_revolver(n)\n",
    "\n",
    "    skip = 1 # pop automatically skips the dead guy\n",
    "    idx = skip\n",
    "    \n",
    "    while len(num_ls) > 1:\n",
    "        if (luck_ls[0]==\"bullet\"):\n",
    "            if (num_ls[idx]==where_u_r):\n",
    "                            print (\"\\nBang! You were killed!\\n\")\n",
    "            print ('In round ',n+1-len(num_ls), \": person number \",num_ls.pop(idx), \"was killed\") # kill prisoner at idx          \n",
    "            luck_ls.clear()       \n",
    "            luck_ls=loading_a_bullet_into_tne_chamber_of_a_revolver(len(num_ls))           \n",
    "        else:\n",
    "            if (num_ls[idx]==where_u_r):\n",
    "                            print (\"\\nYou were survived!\\n\")\n",
    "            print ('In round ',n+1-len(num_ls), \": person number \",num_ls[idx], \"was survived\") \n",
    "            idx = idx + 1 % len(num_ls)    \n",
    "            luck_ls = [luck_ls[-1]] + luck_ls[:-1]\n",
    "            print(\"cylinder rotated!\",luck_ls)   \n",
    "        idx = (idx + skip) % len(num_ls)         \n",
    "    print ('survivor is person number: ', num_ls[0])   \n",
    "    \n",
    "    if (num_ls[0]==where_u_r):\n",
    "        print ('\\nYou are really a surviver! ÷)\\n')\n"
   ]
  },
  {
   "cell_type": "code",
<<<<<<< HEAD
   "execution_count": 13,
=======
   "execution_count": 9,
>>>>>>> parent of e73f222... code commit
   "metadata": {},
   "outputs": [],
   "source": [
    "def loading_a_bullet_into_tne_chamber_of_a_revolver(n):\n",
    "    luck=list()\n",
    "    for i in range(math.ceil(n/2)):\n",
    "            luck.append(\"empty\")\n",
    "    luck[0]=\"bullet\"    \n",
    "    random.shuffle(luck)\n",
    "    print ('loading a bullet into one chamber of a revolver and spinning the cylinder!:',luck)\n",
    "    return luck"
   ]
  },
  {
   "cell_type": "code",
<<<<<<< HEAD
   "execution_count": 14,
=======
   "execution_count": 18,
>>>>>>> parent of e73f222... code commit
   "metadata": {},
   "outputs": [
    {
     "name": "stdout",
     "output_type": "stream",
     "text": [
<<<<<<< HEAD
      "loading a bullet into one chamber of a revolver and spinning the cylinder!: ['empty', 'bullet', 'empty']\n",
      "In round  1 : person number  2 was survived\n",
      "cylinder rotated! ['empty', 'empty', 'bullet']\n",
      "In round  1 : person number  4 was survived\n",
      "cylinder rotated! ['bullet', 'empty', 'empty']\n",
      "In round  1 : person number  1 was killed\n",
      "loading a bullet into one chamber of a revolver and spinning the cylinder!: ['empty', 'bullet']\n",
      "\n",
      "You were survived!\n",
      "\n",
      "In round  2 : person number  3 was survived\n",
      "cylinder rotated! ['bullet', 'empty']\n",
      "In round  2 : person number  5 was killed\n",
      "loading a bullet into one chamber of a revolver and spinning the cylinder!: ['empty', 'bullet']\n",
      "\n",
      "You were survived!\n",
      "\n",
      "In round  3 : person number  3 was survived\n",
      "cylinder rotated! ['bullet', 'empty']\n",
      "In round  3 : person number  2 was killed\n",
=======
      "loading a bullet into one chamber of a revolver and spinning the cylinder!: ['bullet', 'empty', 'empty']\n",
      "In round  1 : person number  2 was killed\n",
      "loading a bullet into one chamber of a revolver and spinning the cylinder!: ['bullet', 'empty']\n",
      "In round  2 : person number  4 was killed\n",
      "loading a bullet into one chamber of a revolver and spinning the cylinder!: ['bullet', 'empty']\n",
      "In round  3 : person number  1 was killed\n",
>>>>>>> parent of e73f222... code commit
      "loading a bullet into one chamber of a revolver and spinning the cylinder!: ['bullet']\n",
      "In round  4 : person number  4 was killed\n",
      "loading a bullet into one chamber of a revolver and spinning the cylinder!: ['bullet']\n",
      "survivor is person number:  3\n",
      "\n",
      "You are really a surviver! ÷)\n",
      "\n"
     ]
    }
   ],
   "source": [
    "how_lucky_is_this_Russian_Josephus(5,3)"
   ]
  }
 ],
 "metadata": {
  "kernelspec": {
   "display_name": "Python 3",
   "language": "python",
   "name": "python3"
  },
  "language_info": {
   "codemirror_mode": {
    "name": "ipython",
    "version": 3
   },
   "file_extension": ".py",
   "mimetype": "text/x-python",
   "name": "python",
   "nbconvert_exporter": "python",
   "pygments_lexer": "ipython3",
   "version": "3.7.6"
  }
 },
 "nbformat": 4,
 "nbformat_minor": 4
}
