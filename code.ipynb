{
 "cells": [
  {
   "cell_type": "code",
   "execution_count": 9,
   "metadata": {},
   "outputs": [],
   "source": [
    "import random\n",
    "import math"
   ]
  },
  {
   "cell_type": "code",
   "execution_count": 10,
   "metadata": {},
   "outputs": [],
   "source": [
    "def how_lucky_is_this_Russian_Josephus(n,m):\n",
    "    \n",
    "\n",
    "    where_u_r=int(m)\n",
    "    num=int(n)\n",
    "    num_ls=[]\n",
    "    luck_ls=list()\n",
    "    \n",
    "    for i in range(n):\n",
    "        num_ls.append(i+1)   \n",
    "\n",
    "    luck_ls=loading_a_bullet_into_tne_chamber_of_a_revolver(n)\n",
    "\n",
    "    skip = 1 #skip can be any arbitary number\n",
    "    idx = skip\n",
    "    \n",
    "    while len(num_ls) > 1:\n",
    "        if (luck_ls[0]==\"bullet\"):\n",
    "            if (num_ls[idx]==where_u_r):\n",
    "                            print (\"\\nBang! You were killed!\\n\")\n",
    "            print ('In round ',n+1-len(num_ls), \": person number \",num_ls.pop(idx), \"was killed\") # kill prisoner at idx          \n",
    "            luck_ls.clear()       \n",
    "            luck_ls=loading_a_bullet_into_tne_chamber_of_a_revolver(len(num_ls))           \n",
    "        else:\n",
    "            if (num_ls[idx]==where_u_r):\n",
    "                            print (\"\\nYou were survived!\\n\")\n",
    "            print ('In round ',n+1-len(num_ls), \": person number \",num_ls[idx], \"was survived\") \n",
    "            idx = idx + 1 % len(num_ls)    \n",
    "            luck_ls = [luck_ls[-1]] + luck_ls[:-1]\n",
    "            print(\"cylinder rotated!\",luck_ls)   \n",
    "        idx = (idx + skip) % len(num_ls)         \n",
    "    print ('survivor is person number: ', num_ls[0])   \n",
    "    \n",
    "    if (num_ls[0]==where_u_r):\n",
    "        print ('\\nYou are really a surviver! ÷)\\n')\n"
   ]
  },
  {
   "cell_type": "code",
   "execution_count": 1,
   "metadata": {},
   "outputs": [],
   "source": [
    "def loading_a_bullet_into_tne_chamber_of_a_revolver(n):\n",
    "    luck=list()\n",
    "    luck=luck+['empty']*math.ceil(n/2)\n",
    "    luck[0]=\"bullet\"    \n",
    "    random.shuffle(luck)\n",
    "    print ('loading a bullet into one chamber of a revolver and spinning the cylinder!:',luck)\n",
    "    return luck"
   ]
  },
  {
   "cell_type": "code",
   "execution_count": 8,
   "metadata": {},
   "outputs": [
    {
     "name": "stdout",
     "output_type": "stream",
     "text": [
      "loading a bullet into one chamber of a revolver and spinning the cylinder!: ['bullet', 'empty', 'empty', 'empty', 'empty']\n",
      "In round  1 : person number  2 was killed\n",
      "loading a bullet into one chamber of a revolver and spinning the cylinder!: ['empty', 'empty', 'bullet', 'empty', 'empty']\n",
      "In round  2 : person number  4 was survived\n",
      "cylinder rotated! ['empty', 'empty', 'empty', 'bullet', 'empty']\n",
      "\n",
      "You were survived!\n",
      "\n",
      "In round  2 : person number  6 was survived\n",
      "cylinder rotated! ['empty', 'empty', 'empty', 'empty', 'bullet']\n",
      "In round  2 : person number  8 was survived\n",
      "cylinder rotated! ['bullet', 'empty', 'empty', 'empty', 'empty']\n",
      "In round  2 : person number  10 was killed\n",
      "loading a bullet into one chamber of a revolver and spinning the cylinder!: ['bullet', 'empty', 'empty', 'empty']\n",
      "In round  3 : person number  3 was killed\n",
      "loading a bullet into one chamber of a revolver and spinning the cylinder!: ['empty', 'bullet', 'empty', 'empty']\n",
      "In round  4 : person number  5 was survived\n",
      "cylinder rotated! ['empty', 'empty', 'bullet', 'empty']\n",
      "In round  4 : person number  7 was survived\n",
      "cylinder rotated! ['empty', 'empty', 'empty', 'bullet']\n",
      "In round  4 : person number  9 was survived\n",
      "cylinder rotated! ['bullet', 'empty', 'empty', 'empty']\n",
      "In round  4 : person number  4 was killed\n",
      "loading a bullet into one chamber of a revolver and spinning the cylinder!: ['empty', 'bullet', 'empty']\n",
      "\n",
      "You were survived!\n",
      "\n",
      "In round  5 : person number  6 was survived\n",
      "cylinder rotated! ['empty', 'empty', 'bullet']\n",
      "In round  5 : person number  8 was survived\n",
      "cylinder rotated! ['bullet', 'empty', 'empty']\n",
      "In round  5 : person number  1 was killed\n",
      "loading a bullet into one chamber of a revolver and spinning the cylinder!: ['empty', 'bullet', 'empty']\n",
      "\n",
      "You were survived!\n",
      "\n",
      "In round  6 : person number  6 was survived\n",
      "cylinder rotated! ['empty', 'empty', 'bullet']\n",
      "In round  6 : person number  8 was survived\n",
      "cylinder rotated! ['bullet', 'empty', 'empty']\n",
      "In round  6 : person number  5 was killed\n",
      "loading a bullet into one chamber of a revolver and spinning the cylinder!: ['bullet', 'empty']\n",
      "In round  7 : person number  7 was killed\n",
      "loading a bullet into one chamber of a revolver and spinning the cylinder!: ['bullet', 'empty']\n",
      "In round  8 : person number  9 was killed\n",
      "loading a bullet into one chamber of a revolver and spinning the cylinder!: ['bullet']\n",
      "In round  9 : person number  8 was killed\n",
      "loading a bullet into one chamber of a revolver and spinning the cylinder!: ['bullet']\n",
      "survivor is person number:  6\n",
      "\n",
      "You are really a surviver! ÷)\n",
      "\n"
     ]
    }
   ],
   "source": [
    "#first input: number of all people in game : for example 5\n",
    "#second input: show the place where Josephus is standing : for example 3\n",
    "how_lucky_is_this_Russian_Josephus(10,6)"
   ]
  }
 ],
 "metadata": {
  "kernelspec": {
   "display_name": "Python 3",
   "language": "python",
   "name": "python3"
  },
  "language_info": {
   "codemirror_mode": {
    "name": "ipython",
    "version": 3
   },
   "file_extension": ".py",
   "mimetype": "text/x-python",
   "name": "python",
   "nbconvert_exporter": "python",
   "pygments_lexer": "ipython3",
   "version": "3.7.6"
  }
 },
 "nbformat": 4,
 "nbformat_minor": 4
}
